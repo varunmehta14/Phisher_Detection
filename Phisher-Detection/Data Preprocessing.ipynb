{
  "nbformat": 4,
  "nbformat_minor": 0,
  "metadata": {
    "colab": {
      "provenance": []
    },
    "kernelspec": {
      "name": "python3",
      "display_name": "Python 3"
    },
    "language_info": {
      "name": "python"
    },
    "accelerator": "GPU"
  },
  "cells": [
    {
      "cell_type": "code",
      "metadata": {
        "colab": {
          "base_uri": "https://localhost:8080/"
        },
        "id": "MZLlIKy00I4n",
        "outputId": "8fa9d8b8-8d94-40da-9cb1-467968433771"
      },
      "source": [
        "from google.colab import drive\n",
        "drive.mount('/content/drive')"
      ],
      "execution_count": null,
      "outputs": [
        {
          "output_type": "stream",
          "name": "stdout",
          "text": [
            "Mounted at /content/drive\n"
          ]
        }
      ]
    },
    {
      "cell_type": "code",
      "metadata": {
        "id": "pFsMhoT40VQ6"
      },
      "source": [
        "import pandas as pd\n",
        "import numpy as np\n",
        "from datetime import datetime\n",
        "\n",
        "data_dir_1 = '/content/drive/My Drive/BaselineToShow/D1.csv'\n",
        "dataset = pd.read_csv(data_dir_1)"
      ],
      "execution_count": null,
      "outputs": []
    },
    {
      "cell_type": "code",
      "metadata": {
        "colab": {
          "base_uri": "https://localhost:8080/",
          "height": 354
        },
        "id": "fE2S80yf0Wr4",
        "outputId": "e411cf22-d934-4b4a-c677-fd0f0468e5e8"
      },
      "source": [
        "dataset.head()"
      ],
      "execution_count": null,
      "outputs": [
        {
          "output_type": "execute_result",
          "data": {
            "text/plain": [
              "   Unnamed: 0  Unnamed: 0.1  Unnamed: 0.1.1  Unnamed: 0.1.1.1  \\\n",
              "0       64896         64896            4897           1538097   \n",
              "1        5275          5275            5275              5275   \n",
              "2       64894         64894            4895           1538095   \n",
              "3       64898         64898            4899           1538099   \n",
              "4       64891         64891            4892           1538092   \n",
              "\n",
              "                                         from  \\\n",
              "0  0x51836a753e344257b361519e948ffcaf5fb8d521   \n",
              "1  0x21f74c6bbc1e3ab9f0205e12de3a9daa14351aed   \n",
              "2  0x51836a753e344257b361519e948ffcaf5fb8d521   \n",
              "3  0x51836a753e344257b361519e948ffcaf5fb8d521   \n",
              "4  0x51836a753e344257b361519e948ffcaf5fb8d521   \n",
              "\n",
              "                                           to     amount     timestamp  \\\n",
              "0  0x80ae86c1a0565f2661e2b8bfd683e7ae23e4ec37  11.166599  1.498390e+09   \n",
              "1  0x77b92900167244af5035426831fe4e37328df81f   0.502769  1.498398e+09   \n",
              "2  0x80ae86c1a0565f2661e2b8bfd683e7ae23e4ec37  11.166599  1.498390e+09   \n",
              "3  0x80ae86c1a0565f2661e2b8bfd683e7ae23e4ec37  11.166599  1.498390e+09   \n",
              "4  0x247ba49d6fa3b7d14301fc67bb751b8e683c9c9e   0.114800  1.498378e+09   \n",
              "\n",
              "   fromIsPhi  toIsPhi        date  \n",
              "0          0        0  2017-06-25  \n",
              "1          1        0  2017-06-25  \n",
              "2          0        0  2017-06-25  \n",
              "3          0        0  2017-06-25  \n",
              "4          0        0  2017-06-25  "
            ],
            "text/html": [
              "\n",
              "  <div id=\"df-c38573ab-31a0-483c-94ec-62384834dd92\">\n",
              "    <div class=\"colab-df-container\">\n",
              "      <div>\n",
              "<style scoped>\n",
              "    .dataframe tbody tr th:only-of-type {\n",
              "        vertical-align: middle;\n",
              "    }\n",
              "\n",
              "    .dataframe tbody tr th {\n",
              "        vertical-align: top;\n",
              "    }\n",
              "\n",
              "    .dataframe thead th {\n",
              "        text-align: right;\n",
              "    }\n",
              "</style>\n",
              "<table border=\"1\" class=\"dataframe\">\n",
              "  <thead>\n",
              "    <tr style=\"text-align: right;\">\n",
              "      <th></th>\n",
              "      <th>Unnamed: 0</th>\n",
              "      <th>Unnamed: 0.1</th>\n",
              "      <th>Unnamed: 0.1.1</th>\n",
              "      <th>Unnamed: 0.1.1.1</th>\n",
              "      <th>from</th>\n",
              "      <th>to</th>\n",
              "      <th>amount</th>\n",
              "      <th>timestamp</th>\n",
              "      <th>fromIsPhi</th>\n",
              "      <th>toIsPhi</th>\n",
              "      <th>date</th>\n",
              "    </tr>\n",
              "  </thead>\n",
              "  <tbody>\n",
              "    <tr>\n",
              "      <th>0</th>\n",
              "      <td>64896</td>\n",
              "      <td>64896</td>\n",
              "      <td>4897</td>\n",
              "      <td>1538097</td>\n",
              "      <td>0x51836a753e344257b361519e948ffcaf5fb8d521</td>\n",
              "      <td>0x80ae86c1a0565f2661e2b8bfd683e7ae23e4ec37</td>\n",
              "      <td>11.166599</td>\n",
              "      <td>1.498390e+09</td>\n",
              "      <td>0</td>\n",
              "      <td>0</td>\n",
              "      <td>2017-06-25</td>\n",
              "    </tr>\n",
              "    <tr>\n",
              "      <th>1</th>\n",
              "      <td>5275</td>\n",
              "      <td>5275</td>\n",
              "      <td>5275</td>\n",
              "      <td>5275</td>\n",
              "      <td>0x21f74c6bbc1e3ab9f0205e12de3a9daa14351aed</td>\n",
              "      <td>0x77b92900167244af5035426831fe4e37328df81f</td>\n",
              "      <td>0.502769</td>\n",
              "      <td>1.498398e+09</td>\n",
              "      <td>1</td>\n",
              "      <td>0</td>\n",
              "      <td>2017-06-25</td>\n",
              "    </tr>\n",
              "    <tr>\n",
              "      <th>2</th>\n",
              "      <td>64894</td>\n",
              "      <td>64894</td>\n",
              "      <td>4895</td>\n",
              "      <td>1538095</td>\n",
              "      <td>0x51836a753e344257b361519e948ffcaf5fb8d521</td>\n",
              "      <td>0x80ae86c1a0565f2661e2b8bfd683e7ae23e4ec37</td>\n",
              "      <td>11.166599</td>\n",
              "      <td>1.498390e+09</td>\n",
              "      <td>0</td>\n",
              "      <td>0</td>\n",
              "      <td>2017-06-25</td>\n",
              "    </tr>\n",
              "    <tr>\n",
              "      <th>3</th>\n",
              "      <td>64898</td>\n",
              "      <td>64898</td>\n",
              "      <td>4899</td>\n",
              "      <td>1538099</td>\n",
              "      <td>0x51836a753e344257b361519e948ffcaf5fb8d521</td>\n",
              "      <td>0x80ae86c1a0565f2661e2b8bfd683e7ae23e4ec37</td>\n",
              "      <td>11.166599</td>\n",
              "      <td>1.498390e+09</td>\n",
              "      <td>0</td>\n",
              "      <td>0</td>\n",
              "      <td>2017-06-25</td>\n",
              "    </tr>\n",
              "    <tr>\n",
              "      <th>4</th>\n",
              "      <td>64891</td>\n",
              "      <td>64891</td>\n",
              "      <td>4892</td>\n",
              "      <td>1538092</td>\n",
              "      <td>0x51836a753e344257b361519e948ffcaf5fb8d521</td>\n",
              "      <td>0x247ba49d6fa3b7d14301fc67bb751b8e683c9c9e</td>\n",
              "      <td>0.114800</td>\n",
              "      <td>1.498378e+09</td>\n",
              "      <td>0</td>\n",
              "      <td>0</td>\n",
              "      <td>2017-06-25</td>\n",
              "    </tr>\n",
              "  </tbody>\n",
              "</table>\n",
              "</div>\n",
              "      <button class=\"colab-df-convert\" onclick=\"convertToInteractive('df-c38573ab-31a0-483c-94ec-62384834dd92')\"\n",
              "              title=\"Convert this dataframe to an interactive table.\"\n",
              "              style=\"display:none;\">\n",
              "        \n",
              "  <svg xmlns=\"http://www.w3.org/2000/svg\" height=\"24px\"viewBox=\"0 0 24 24\"\n",
              "       width=\"24px\">\n",
              "    <path d=\"M0 0h24v24H0V0z\" fill=\"none\"/>\n",
              "    <path d=\"M18.56 5.44l.94 2.06.94-2.06 2.06-.94-2.06-.94-.94-2.06-.94 2.06-2.06.94zm-11 1L8.5 8.5l.94-2.06 2.06-.94-2.06-.94L8.5 2.5l-.94 2.06-2.06.94zm10 10l.94 2.06.94-2.06 2.06-.94-2.06-.94-.94-2.06-.94 2.06-2.06.94z\"/><path d=\"M17.41 7.96l-1.37-1.37c-.4-.4-.92-.59-1.43-.59-.52 0-1.04.2-1.43.59L10.3 9.45l-7.72 7.72c-.78.78-.78 2.05 0 2.83L4 21.41c.39.39.9.59 1.41.59.51 0 1.02-.2 1.41-.59l7.78-7.78 2.81-2.81c.8-.78.8-2.07 0-2.86zM5.41 20L4 18.59l7.72-7.72 1.47 1.35L5.41 20z\"/>\n",
              "  </svg>\n",
              "      </button>\n",
              "      \n",
              "  <style>\n",
              "    .colab-df-container {\n",
              "      display:flex;\n",
              "      flex-wrap:wrap;\n",
              "      gap: 12px;\n",
              "    }\n",
              "\n",
              "    .colab-df-convert {\n",
              "      background-color: #E8F0FE;\n",
              "      border: none;\n",
              "      border-radius: 50%;\n",
              "      cursor: pointer;\n",
              "      display: none;\n",
              "      fill: #1967D2;\n",
              "      height: 32px;\n",
              "      padding: 0 0 0 0;\n",
              "      width: 32px;\n",
              "    }\n",
              "\n",
              "    .colab-df-convert:hover {\n",
              "      background-color: #E2EBFA;\n",
              "      box-shadow: 0px 1px 2px rgba(60, 64, 67, 0.3), 0px 1px 3px 1px rgba(60, 64, 67, 0.15);\n",
              "      fill: #174EA6;\n",
              "    }\n",
              "\n",
              "    [theme=dark] .colab-df-convert {\n",
              "      background-color: #3B4455;\n",
              "      fill: #D2E3FC;\n",
              "    }\n",
              "\n",
              "    [theme=dark] .colab-df-convert:hover {\n",
              "      background-color: #434B5C;\n",
              "      box-shadow: 0px 1px 3px 1px rgba(0, 0, 0, 0.15);\n",
              "      filter: drop-shadow(0px 1px 2px rgba(0, 0, 0, 0.3));\n",
              "      fill: #FFFFFF;\n",
              "    }\n",
              "  </style>\n",
              "\n",
              "      <script>\n",
              "        const buttonEl =\n",
              "          document.querySelector('#df-c38573ab-31a0-483c-94ec-62384834dd92 button.colab-df-convert');\n",
              "        buttonEl.style.display =\n",
              "          google.colab.kernel.accessAllowed ? 'block' : 'none';\n",
              "\n",
              "        async function convertToInteractive(key) {\n",
              "          const element = document.querySelector('#df-c38573ab-31a0-483c-94ec-62384834dd92');\n",
              "          const dataTable =\n",
              "            await google.colab.kernel.invokeFunction('convertToInteractive',\n",
              "                                                     [key], {});\n",
              "          if (!dataTable) return;\n",
              "\n",
              "          const docLinkHtml = 'Like what you see? Visit the ' +\n",
              "            '<a target=\"_blank\" href=https://colab.research.google.com/notebooks/data_table.ipynb>data table notebook</a>'\n",
              "            + ' to learn more about interactive tables.';\n",
              "          element.innerHTML = '';\n",
              "          dataTable['output_type'] = 'display_data';\n",
              "          await google.colab.output.renderOutput(dataTable, element);\n",
              "          const docLink = document.createElement('div');\n",
              "          docLink.innerHTML = docLinkHtml;\n",
              "          element.appendChild(docLink);\n",
              "        }\n",
              "      </script>\n",
              "    </div>\n",
              "  </div>\n",
              "  "
            ]
          },
          "metadata": {},
          "execution_count": 3
        }
      ]
    },
    {
      "cell_type": "code",
      "metadata": {
        "colab": {
          "base_uri": "https://localhost:8080/"
        },
        "id": "FNiXt3yL0YPq",
        "outputId": "c0955bee-14e4-4160-dad2-397d7fa9ed96"
      },
      "source": [
        "unique_val = dataset['from'].unique()\n",
        "unique_val_1 = dataset['to'].unique()\n",
        "print(len(unique_val))\n",
        "print(len(unique_val_1))\n",
        "unique_val = np.append(unique_val, unique_val_1)\n",
        "unique_val = set(unique_val)\n",
        "unique_val = list(unique_val)\n",
        "print(len(unique_val))"
      ],
      "execution_count": null,
      "outputs": [
        {
          "output_type": "stream",
          "name": "stdout",
          "text": [
            "289\n",
            "1160\n",
            "1403\n"
          ]
        }
      ]
    },
    {
      "cell_type": "code",
      "metadata": {
        "id": "Psl0UTis0g0j"
      },
      "source": [
        "final_df = pd.DataFrame()"
      ],
      "execution_count": null,
      "outputs": []
    },
    {
      "cell_type": "code",
      "metadata": {
        "id": "MBoxuzEU1eHF"
      },
      "source": [
        "final_df['User_Id'] = unique_val"
      ],
      "execution_count": null,
      "outputs": []
    },
    {
      "cell_type": "code",
      "metadata": {
        "id": "j7UklHv02AQz"
      },
      "source": [
        "def is_phis (hash_value):\n",
        "  list_from = dataset[dataset['from'] == hash_value]\n",
        "  list_to = dataset[dataset['to'] == hash_value]\n",
        "  if not list_from.empty:\n",
        "    return int(list_from.fromIsPhi.unique())\n",
        "  elif not list_to.empty:\n",
        "    return int(list_to.toIsPhi.unique())\n",
        "  else:\n",
        "    return 0\n",
        "\n",
        "def output_vals (hash_value):\n",
        "  list = dataset[dataset['from'] == hash_value]\n",
        "  days = 0\n",
        "  count = 0\n",
        "  if not list.empty: \n",
        "    col = list['timestamp']\n",
        "    count = list.shape[0]\n",
        "    max_date = datetime.fromtimestamp(col.max()).strftime('%d-%m-%Y %H:%M:%S')\n",
        "    min_date = datetime.fromtimestamp(col.min()).strftime('%d-%m-%Y %H:%M:%S')\n",
        "    max = datetime_object = datetime.strptime(max_date, '%d-%m-%Y %H:%M:%S')\n",
        "    min = datetime_object = datetime.strptime(min_date, '%d-%m-%Y %H:%M:%S')\n",
        "    days = (max - min).days\n",
        "  return days, count\n",
        "\n",
        "def input_vals (hash_value):\n",
        "  list = dataset[dataset['to'] == hash_value]\n",
        "  days = 0\n",
        "  count = 0\n",
        "  if not list.empty: \n",
        "    col = list['timestamp']\n",
        "    count = list.shape[0]\n",
        "    max_date = datetime.fromtimestamp(col.max()).strftime('%d-%m-%Y %H:%M:%S')\n",
        "    min_date = datetime.fromtimestamp(col.min()).strftime('%d-%m-%Y %H:%M:%S')\n",
        "    max = datetime_object = datetime.strptime(max_date, '%d-%m-%Y %H:%M:%S')\n",
        "    min = datetime_object = datetime.strptime(min_date, '%d-%m-%Y %H:%M:%S')\n",
        "    days = (max - min).days\n",
        "  return days, count\n",
        "\n",
        "def temporal_input_activity (hash_value):\n",
        "  list = dataset[dataset['to'] == hash_value]\n",
        "  sum = 0\n",
        "  if not list.empty:\n",
        "    vals = list['timestamp'].value_counts()\n",
        "    for index, value in vals.items():\n",
        "      add = index * value\n",
        "      sum = sum + add\n",
        "  return sum\n",
        "\n",
        "def temporal_output_activity (hash_value):\n",
        "  list = dataset[dataset['from'] == hash_value]\n",
        "  sum = 0\n",
        "  if not list.empty: \n",
        "    vals = list['timestamp'].value_counts()\n",
        "    for index, value in vals.items():\n",
        "      add = index * value\n",
        "      sum = sum + add\n",
        "  return sum"
      ],
      "execution_count": null,
      "outputs": []
    },
    {
      "cell_type": "code",
      "metadata": {
        "id": "hjWS795Q55ty"
      },
      "source": [
        "is_phisher = []\n",
        "for i in unique_val:\n",
        "  val = is_phis(i)\n",
        "  is_phisher.append(val)"
      ],
      "execution_count": null,
      "outputs": []
    },
    {
      "cell_type": "code",
      "metadata": {
        "id": "eD0rxbhA2AUI"
      },
      "source": [
        "output_days_list = []\n",
        "output_count_list = []\n",
        "for i in unique_val:\n",
        "  days, count = output_vals(i)\n",
        "  output_days_list.append(days)\n",
        "  output_count_list.append(count)"
      ],
      "execution_count": null,
      "outputs": []
    },
    {
      "cell_type": "code",
      "metadata": {
        "id": "tnFYuEsL4uBc"
      },
      "source": [
        "input_days_list = []\n",
        "input_count_list = []\n",
        "for i in unique_val:\n",
        "  days, count = input_vals(i)\n",
        "  input_days_list.append(days)\n",
        "  input_count_list.append(count)"
      ],
      "execution_count": null,
      "outputs": []
    },
    {
      "cell_type": "code",
      "metadata": {
        "id": "fVmki6HX2AW6"
      },
      "source": [
        "temporal_input = []\n",
        "for i in unique_val:\n",
        "  act = temporal_input_activity(i)\n",
        "  temporal_input.append(act)"
      ],
      "execution_count": null,
      "outputs": []
    },
    {
      "cell_type": "code",
      "metadata": {
        "id": "iVTYi7oO2AZk"
      },
      "source": [
        "temporal_output = []\n",
        "for i in unique_val:\n",
        "  act = temporal_output_activity(i)\n",
        "  temporal_output.append(act)"
      ],
      "execution_count": null,
      "outputs": []
    },
    {
      "cell_type": "code",
      "metadata": {
        "id": "LEx_-zJ-2Ab9"
      },
      "source": [
        "final_df['is_Phisher'] = is_phisher\n",
        "final_df['outputLifetime'] = output_days_list\n",
        "final_df['outputCount'] = output_count_list\n",
        "final_df['inputLifetime'] = input_days_list\n",
        "final_df['inputCount'] = input_count_list\n",
        "final_df['temporalOutput'] = temporal_output\n",
        "final_df['temporalInput'] = temporal_input"
      ],
      "execution_count": null,
      "outputs": []
    },
    {
      "cell_type": "code",
      "metadata": {
        "id": "iBUdHZaM2Agy"
      },
      "source": [
        "data_directory = '/content/drive/My Drive/BaselineToShow/finalD1.csv'\n",
        "final_df.to_csv(data_directory) "
      ],
      "execution_count": null,
      "outputs": []
    },
    {
      "cell_type": "code",
      "source": [],
      "metadata": {
        "id": "DamMNYEfk3-L"
      },
      "execution_count": null,
      "outputs": []
    }
  ]
}